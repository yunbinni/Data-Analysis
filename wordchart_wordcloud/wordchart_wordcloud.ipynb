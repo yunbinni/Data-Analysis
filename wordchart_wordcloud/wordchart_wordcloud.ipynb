{
 "cells": [
  {
   "cell_type": "markdown",
   "metadata": {},
   "source": [
    "# 단어별 빈도수 생성"
   ]
  },
  {
   "cell_type": "code",
   "execution_count": 1,
   "metadata": {},
   "outputs": [],
   "source": [
    "from konlpy.tag import Okt\n",
    "from konlpy.utils import pprint\n",
    "\n",
    "okt = Okt()\n",
    "\n",
    "# 단어별 빈도수 출력 함수\n",
    "def nounList(lines):\n",
    "    nouns = []\n",
    "    cnt = []\n",
    "    text = []\n",
    "    \n",
    "    # 명사 list 추출 (x축, nouns)\n",
    "    for line in lines:\n",
    "        text = okt.nouns(u'%s' % line)\n",
    "        for wd in text:\n",
    "            if wd not in nouns: # 중복 방지 코드\n",
    "                nouns.append(wd)\n",
    "                \n",
    "    # 명사별 빈도수 계산 (y축, cnt)\n",
    "    for noun in nouns:\n",
    "        wordcount = 0\n",
    "        for line in lines:\n",
    "            text = okt.nouns(u'%s' % line)\n",
    "            wordcount += text.count(noun)\n",
    "        cnt.append(wordcount)\n",
    "    \n",
    "    # 빈도별 내림차순 정렬\n",
    "    table = dict(zip(nouns, cnt))\n",
    "    table = sorted(table.items(), key=lambda x: x[1], reverse=True)\n",
    "    table = dict(table)\n",
    "    \n",
    "    return table"
   ]
  },
  {
   "cell_type": "markdown",
   "metadata": {},
   "source": [
    "## 파일입력"
   ]
  },
  {
   "cell_type": "code",
   "execution_count": 3,
   "metadata": {
    "scrolled": true
   },
   "outputs": [],
   "source": [
    "txt = open('./lyrics.txt', encoding='utf-8')\n",
    "txt = txt.readlines()\n",
    "\n",
    "# print(nounList(txt))"
   ]
  },
  {
   "cell_type": "markdown",
   "metadata": {},
   "source": [
    "# 단어별 빈도 막대그래프"
   ]
  },
  {
   "cell_type": "code",
   "execution_count": 4,
   "metadata": {
    "scrolled": false
   },
   "outputs": [
    {
     "data": {
      "image/png": "[encoded data removed]",
      "text/plain": [
       "<Figure size 1152x648 with 1 Axes>"
      ]
     },
     "metadata": {
      "needs_background": "light"
     },
     "output_type": "display_data"
    }
   ],
   "source": [
    "# matplotlib 한글설정\n",
    "import matplotlib.pyplot as plt\n",
    "%matplotlib inline\n",
    "\n",
    "from matplotlib import font_manager, rc\n",
    "plt.rcParams['axes.unicode_minus'] = False\n",
    "\n",
    "f_path = \"C:/Windows/Fonts/malgun.ttf\"\n",
    "font_name = font_manager.FontProperties(fname=f_path).get_name()\n",
    "rc('font', family=font_name)\n",
    "\n",
    "# 시각화용 aes 설정\n",
    "x = list(nounList(txt).keys())[:20]\n",
    "y = list(nounList(txt).values())[:20]\n",
    "\n",
    "# 시각화\n",
    "plt.figure(figsize = (16, 9))\n",
    "plt.bar(x, y)\n",
    "plt.xticks(fontsize=14, rotation=90)\n",
    "plt.yticks(fontsize=16)\n",
    "plt.show()"
   ]
  },
  {
   "cell_type": "markdown",
   "metadata": {},
   "source": [
    "# 워드클라우드 (추후 모양선택은 회의를 거쳐서...)"
   ]
  },
  {
   "cell_type": "code",
   "execution_count": null,
   "metadata": {
    "scrolled": true
   },
   "outputs": [],
   "source": [
    "from wordcloud import WordCloud\n",
    "import matplotlib.pyplot as plt\n",
    "import random\n",
    "\n",
    "# 난수 고정\n",
    "random.seed(1234)\n",
    "\n",
    "# Generate a word cloud image\n",
    "wc = WordCloud(font_path='font/NanumGothic.ttf',\n",
    "              background_color='white',\n",
    "              width = 1000,\n",
    "              height = 1000,\n",
    "              max_words = 100,\n",
    "              max_font_size = 300)\n",
    "\n",
    "wc.generate_from_frequencies(nounList(txt))\n",
    "\n",
    "fig = plt.figure(figsize=(10, 10))\n",
    "plt.imshow(wc)\n",
    "plt.axis('off')\n",
    "plt.show()\n",
    "fig.savefig('wordcloud.png')"
   ]
  },
  {
   "cell_type": "markdown",
   "metadata": {},
   "source": [
    "# 남은 것...\n",
    "- 불용어 제거 및 추가 작업 찾아보기\n",
    "- 명사 이외에 형용사, 부사도 포함할지?\n",
    "- Dynamite가 영어 가사인데 이건 반영안됨...\n",
    "- 긍정어, 부정어 별로 만들지?\n",
    "- 가사를 음원사이트별로 크롤링하여 하나의 txt파일로 만들 것\n",
    "- 워드 클라우드의 모양을 선택해서 고를 것"
   ]
  }
 ],
 "metadata": {
  "kernelspec": {
   "display_name": "Python 3",
   "language": "python",
   "name": "python3"
  },
  "language_info": {
   "codemirror_mode": {
    "name": "ipython",
    "version": 3
   },
   "file_extension": ".py",
   "mimetype": "text/x-python",
   "name": "python",
   "nbconvert_exporter": "python",
   "pygments_lexer": "ipython3",
   "version": "3.8.6"
  }
 },
 "nbformat": 4,
 "nbformat_minor": 4
}